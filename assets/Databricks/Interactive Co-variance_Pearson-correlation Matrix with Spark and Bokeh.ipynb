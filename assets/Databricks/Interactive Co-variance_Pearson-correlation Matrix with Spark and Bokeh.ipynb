{
 "cells": [
  {
   "cell_type": "markdown",
   "metadata": {
    "application/vnd.databricks.v1+cell": {
     "cellMetadata": {
      "byteLimit": 2048000,
      "rowLimit": 10000
     },
     "inputWidgets": {},
     "nuid": "774ac5d5-d86b-48e6-917e-38a0470936ac",
     "showTitle": false,
     "tableResultSettingsMap": {},
     "title": ""
    }
   },
   "source": [
    "#ML-Basic0: checking covariance/linear-correlation\n",
    "- Pearson-correlation fast calculation with Spark's distributed cosine\n",
    "- Interactive correlation checking among random variables/columns using Interactive Bokeh\n",
    "\n",
    "Xiaowei Song (dawnwei.song AT gmail.com), Nov, 2024"
   ]
  },
  {
   "cell_type": "code",
   "execution_count": 0,
   "metadata": {
    "application/vnd.databricks.v1+cell": {
     "cellMetadata": {
      "byteLimit": 2048000,
      "rowLimit": 10000
     },
     "inputWidgets": {},
     "nuid": "5aec87b0-183e-4c1f-a3bd-e880aa18d968",
     "showTitle": false,
     "tableResultSettingsMap": {},
     "title": ""
    }
   },
   "outputs": [
    {
     "output_type": "stream",
     "name": "stdout",
     "output_type": "stream",
     "text": [
      "Found existing installation: xProb 0.0.1\nUninstalling xProb-0.0.1:\n  Successfully uninstalled xProb-0.0.1\n\u001B[43mNote: you may need to restart the kernel using %restart_python or dbutils.library.restartPython() to use updated packages.\u001B[0m\nUsing pip 23.2.1 from /local_disk0/.ephemeral_nfs/envs/pythonEnv-88c30c98-825d-48a8-bd21-1cd8959faedd/lib/python3.11/site-packages/pip (python 3.11)\nCollecting git+https://github.com/dawnsong/xProb.git\n  Cloning https://github.com/dawnsong/xProb.git to /tmp/pip-req-build-ac9vru74\n  Running command git version\n  git version 2.43.0\n  Running command git clone --filter=blob:none https://github.com/dawnsong/xProb.git /tmp/pip-req-build-ac9vru74\n  Cloning into '/tmp/pip-req-build-ac9vru74'...\n  Running command git rev-parse HEAD\n  7d3a741f36e68b773e1bb7fbbcff704b7a7ce6ac\n  Resolved https://github.com/dawnsong/xProb.git to commit 7d3a741f36e68b773e1bb7fbbcff704b7a7ce6ac\n  Running command git rev-parse HEAD\n  7d3a741f36e68b773e1bb7fbbcff704b7a7ce6ac\n  Installing build dependencies: started\n  Running command pip subprocess to install build dependencies\n  Collecting hatchling==1.24.2\n    Obtaining dependency information for hatchling==1.24.2 from https://files.pythonhosted.org/packages/5f/20/b890241570ac3ba6508febab3104eeb1acd7ffba1bd3447190f56151f1bc/hatchling-1.24.2-py3-none-any.whl.metadata\n    Using cached hatchling-1.24.2-py3-none-any.whl.metadata (3.8 kB)\n  Collecting bokeh==3.7.0\n    Obtaining dependency information for bokeh==3.7.0 from https://files.pythonhosted.org/packages/0d/15/6a3d627472f80fbc0e4a346e866ce015af60114014316757684f713c9377/bokeh-3.7.0-py3-none-any.whl.metadata\n    Using cached bokeh-3.7.0-py3-none-any.whl.metadata (12 kB)\n  Collecting packaging>=23.2 (from hatchling==1.24.2)\n    Obtaining dependency information for packaging>=23.2 from https://files.pythonhosted.org/packages/88/ef/eb23f262cca3c0c4eb7ab1933c3b1f03d021f2c48f54763065b6f0e321be/packaging-24.2-py3-none-any.whl.metadata\n    Using cached packaging-24.2-py3-none-any.whl.metadata (3.2 kB)\n  Collecting pathspec>=0.10.1 (from hatchling==1.24.2)\n    Obtaining dependency information for pathspec>=0.10.1 from https://files.pythonhosted.org/packages/cc/20/ff623b09d963f88bfde16306a54e12ee5ea43e9b597108672ff3a408aad6/pathspec-0.12.1-py3-none-any.whl.metadata\n    Using cached pathspec-0.12.1-py3-none-any.whl.metadata (21 kB)\n  Collecting pluggy>=1.0.0 (from hatchling==1.24.2)\n    Obtaining dependency information for pluggy>=1.0.0 from https://files.pythonhosted.org/packages/88/5f/e351af9a41f866ac3f1fac4ca0613908d9a41741cfcf2228f4ad853b697d/pluggy-1.5.0-py3-none-any.whl.metadata\n    Using cached pluggy-1.5.0-py3-none-any.whl.metadata (4.8 kB)\n  Collecting trove-classifiers (from hatchling==1.24.2)\n    Obtaining dependency information for trove-classifiers from https://files.pythonhosted.org/packages/40/f8/9c6d334002e7b4ff34a875d2f6fe76c6c1544bd7fde3e39cb7cd2593488f/trove_classifiers-2025.3.19.19-py3-none-any.whl.metadata\n    Using cached trove_classifiers-2025.3.19.19-py3-none-any.whl.metadata (2.3 kB)\n  Collecting Jinja2>=2.9 (from bokeh==3.7.0)\n    Obtaining dependency information for Jinja2>=2.9 from https://files.pythonhosted.org/packages/62/a1/3d680cbfd5f4b8f15abc1d571870c5fc3e594bb582bc3b64ea099db13e56/jinja2-3.1.6-py3-none-any.whl.metadata\n    Using cached jinja2-3.1.6-py3-none-any.whl.metadata (2.9 kB)\n  Collecting contourpy>=1.2 (from bokeh==3.7.0)\n    Obtaining dependency information for contourpy>=1.2 from https://files.pythonhosted.org/packages/85/fc/7fa5d17daf77306840a4e84668a48ddff09e6bc09ba4e37e85ffc8e4faa3/contourpy-1.3.1-cp311-cp311-manylinux_2_17_x86_64.manylinux2014_x86_64.whl.metadata\n    Using cached contourpy-1.3.1-cp311-cp311-manylinux_2_17_x86_64.manylinux2014_x86_64.whl.metadata (5.4 kB)\n  Collecting narwhals>=1.13 (from bokeh==3.7.0)\n    Obtaining dependency information for narwhals>=1.13 from https://files.pythonhosted.org/packages/f9/c0/fb39bd876ea2fd9509343d643690cd2f9715e6a77271e7c7b26f1eea70c1/narwhals-1.31.0-py3-none-any.whl.metadata\n    Using cached narwhals-1.31.0-py3-none-any.whl.metadata (11 kB)\n  Collecting numpy>=1.16 (from bokeh==3.7.0)\n    Obtaining dependency information for numpy>=1.16 from https://files.pythonhosted.org/packages/c5/5c/ceefca458559f0ccc7a982319f37ed07b0d7b526964ae6cc61f8ad1b6119/numpy-2.2.4-cp311-cp311-manylinux_2_17_x86_64.manylinux2014_x86_64.whl.metadata\n    Using cached numpy-2.2.4-cp311-cp311-manylinux_2_17_x86_64.manylinux2014_x86_64.whl.metadata (62 kB)\n  Collecting pandas>=1.2 (from bokeh==3.7.0)\n    Obtaining dependency information for pandas>=1.2 from https://files.pythonhosted.org/packages/cd/5f/4dba1d39bb9c38d574a9a22548c540177f78ea47b32f99c0ff2ec499fac5/pandas-2.2.3-cp311-cp311-manylinux_2_17_x86_64.manylinux2014_x86_64.whl.metadata\n    Using cached pandas-2.2.3-cp311-cp311-manylinux_2_17_x86_64.manylinux2014_x86_64.whl.metadata (89 kB)\n  Collecting pillow>=7.1.0 (from bokeh==3.7.0)\n    Obtaining dependency information for pillow>=7.1.0 from https://files.pythonhosted.org/packages/48/a4/fbfe9d5581d7b111b28f1d8c2762dee92e9821bb209af9fa83c940e507a0/pillow-11.1.0-cp311-cp311-manylinux_2_28_x86_64.whl.metadata\n    Using cached pillow-11.1.0-cp311-cp311-manylinux_2_28_x86_64.whl.metadata (9.1 kB)\n  Collecting PyYAML>=3.10 (from bokeh==3.7.0)\n    Obtaining dependency information for PyYAML>=3.10 from https://files.pythonhosted.org/packages/75/e4/2c27590dfc9992f73aabbeb9241ae20220bd9452df27483b6e56d3975cc5/PyYAML-6.0.2-cp311-cp311-manylinux_2_17_x86_64.manylinux2014_x86_64.whl.metadata\n    Using cached PyYAML-6.0.2-cp311-cp311-manylinux_2_17_x86_64.manylinux2014_x86_64.whl.metadata (2.1 kB)\n  Collecting tornado>=6.2 (from bokeh==3.7.0)\n    Obtaining dependency information for tornado>=6.2 from https://files.pythonhosted.org/packages/22/55/b78a464de78051a30599ceb6983b01d8f732e6f69bf37b4ed07f642ac0fc/tornado-6.4.2-cp38-abi3-manylinux_2_5_x86_64.manylinux1_x86_64.manylinux_2_17_x86_64.manylinux2014_x86_64.whl.metadata\n    Using cached tornado-6.4.2-cp38-abi3-manylinux_2_5_x86_64.manylinux1_x86_64.manylinux_2_17_x86_64.manylinux2014_x86_64.whl.metadata (2.5 kB)\n  Collecting xyzservices>=2021.09.1 (from bokeh==3.7.0)\n    Obtaining dependency information for xyzservices>=2021.09.1 from https://files.pythonhosted.org/packages/9a/6e/49408735dae940a0c1c225c6b908fd83bd6e3f5fae120f865754e72f78cb/xyzservices-2025.1.0-py3-none-any.whl.metadata\n    Using cached xyzservices-2025.1.0-py3-none-any.whl.metadata (4.3 kB)\n  Collecting MarkupSafe>=2.0 (from Jinja2>=2.9->bokeh==3.7.0)\n    Obtaining dependency information for MarkupSafe>=2.0 from https://files.pythonhosted.org/packages/f1/a4/aefb044a2cd8d7334c8a47d3fb2c9f328ac48cb349468cc31c20b539305f/MarkupSafe-3.0.2-cp311-cp311-manylinux_2_17_x86_64.manylinux2014_x86_64.whl.metadata\n    Using cached MarkupSafe-3.0.2-cp311-cp311-manylinux_2_17_x86_64.manylinux2014_x86_64.whl.metadata (4.0 kB)\n  Collecting python-dateutil>=2.8.2 (from pandas>=1.2->bokeh==3.7.0)\n    Obtaining dependency information for python-dateutil>=2.8.2 from https://files.pythonhosted.org/packages/ec/57/56b9bcc3c9c6a792fcbaf139543cee77261f3651ca9da0c93f5c1221264b/python_dateutil-2.9.0.post0-py2.py3-none-any.whl.metadata\n    Using cached python_dateutil-2.9.0.post0-py2.py3-none-any.whl.metadata (8.4 kB)\n  Collecting pytz>=2020.1 (from pandas>=1.2->bokeh==3.7.0)\n    Obtaining dependency information for pytz>=2020.1 from https://files.pythonhosted.org/packages/eb/38/ac33370d784287baa1c3d538978b5e2ea064d4c1b93ffbd12826c190dd10/pytz-2025.1-py2.py3-none-any.whl.metadata\n    Using cached pytz-2025.1-py2.py3-none-any.whl.metadata (22 kB)\n  Collecting tzdata>=2022.7 (from pandas>=1.2->bokeh==3.7.0)\n    Obtaining dependency information for tzdata>=2022.7 from https://files.pythonhosted.org/packages/5c/23/c7abc0ca0a1526a0774eca151daeb8de62ec457e77262b66b359c3c7679e/tzdata-2025.2-py2.py3-none-any.whl.metadata\n    Using cached tzdata-2025.2-py2.py3-none-any.whl.metadata (1.4 kB)\n  Collecting six>=1.5 (from python-dateutil>=2.8.2->pandas>=1.2->bokeh==3.7.0)\n    Obtaining dependency information for six>=1.5 from https://files.pythonhosted.org/packages/b7/ce/149a00dd41f10bc29e5921b496af8b574d8413afcd5e30dfa0ed46c2cc5e/six-1.17.0-py2.py3-none-any.whl.metadata\n    Using cached six-1.17.0-py2.py3-none-any.whl.metadata (1.7 kB)\n  Using cached hatchling-1.24.2-py3-none-any.whl (83 kB)\n  Using cached bokeh-3.7.0-py3-none-any.whl (7.0 MB)\n  Using cached contourpy-1.3.1-cp311-cp311-manylinux_2_17_x86_64.manylinux2014_x86_64.whl (326 kB)\n  Using cached jinja2-3.1.6-py3-none-any.whl (134 kB)\n  Using cached narwhals-1.31.0-py3-none-any.whl (313 kB)\n  Using cached numpy-2.2.4-cp311-cp311-manylinux_2_17_x86_64.manylinux2014_x86_64.whl (16.4 MB)\n  Using cached packaging-24.2-py3-none-any.whl (65 kB)\n  Using cached pandas-2.2.3-cp311-cp311-manylinux_2_17_x86_64.manylinux2014_x86_64.whl (13.1 MB)\n  Using cached pathspec-0.12.1-py3-none-any.whl (31 kB)\n  Using cached pillow-11.1.0-cp311-cp311-manylinux_2_28_x86_64.whl (4.5 MB)\n  Using cached pluggy-1.5.0-py3-none-any.whl (20 kB)\n  Using cached PyYAML-6.0.2-cp311-cp311-manylinux_2_17_x86_64.manylinux2014_x86_64.whl (762 kB)\n  Using cached tornado-6.4.2-cp38-abi3-manylinux_2_5_x86_64.manylinux1_x86_64.manylinux_2_17_x86_64.manylinux2014_x86_64.whl (437 kB)\n  Using cached xyzservices-2025.1.0-py3-none-any.whl (88 kB)\n  Using cached trove_classifiers-2025.3.19.19-py3-none-any.whl (13 kB)\n  Using cached MarkupSafe-3.0.2-cp311-cp311-manylinux_2_17_x86_64.manylinux2014_x86_64.whl (23 kB)\n  Using cached python_dateutil-2.9.0.post0-py2.py3-none-any.whl (229 kB)\n  Using cached pytz-2025.1-py2.py3-none-any.whl (507 kB)\n  Using cached tzdata-2025.2-py2.py3-none-any.whl (347 kB)\n  Using cached six-1.17.0-py2.py3-none-any.whl (11 kB)\n  Installing collected packages: trove-classifiers, pytz, xyzservices, tzdata, tornado, six, PyYAML, pluggy, pillow, pathspec, packaging, numpy, narwhals, MarkupSafe, python-dateutil, Jinja2, hatchling, contourpy, pandas, bokeh\n  \u001B[31mERROR: pip's dependency resolver does not currently take into account all the packages that are installed. This behaviour is the source of the following dependency conflicts.\n  mlflow-skinny 2.11.4 requires packaging<24, but you have packaging 24.2 which is incompatible.\n  mlflow-skinny 2.11.4 requires pytz<2025, but you have pytz 2025.1 which is incompatible.\n  scipy 1.11.1 requires numpy<1.28.0,>=1.21.6, but you have numpy 2.2.4 which is incompatible.\u001B[0m\u001B[31m\n  \u001B[0mSuccessfully installed Jinja2-3.1.6 MarkupSafe-3.0.2 PyYAML-6.0.2 bokeh-3.7.0 contourpy-1.3.1 hatchling-1.24.2 narwhals-1.31.0 numpy-2.2.4 packaging-24.2 pandas-2.2.3 pathspec-0.12.1 pillow-11.1.0 pluggy-1.5.0 python-dateutil-2.9.0.post0 pytz-2025.1 six-1.17.0 tornado-6.4.2 trove-classifiers-2025.3.19.19 tzdata-2025.2 xyzservices-2025.1.0\n\n  \u001B[1m[\u001B[0m\u001B[34;49mnotice\u001B[0m\u001B[1;39;49m]\u001B[0m\u001B[39;49m A new release of pip is available: \u001B[0m\u001B[31;49m23.2.1\u001B[0m\u001B[39;49m -> \u001B[0m\u001B[32;49m25.0.1\u001B[0m\n  \u001B[1m[\u001B[0m\u001B[34;49mnotice\u001B[0m\u001B[1;39;49m]\u001B[0m\u001B[39;49m To update, run: \u001B[0m\u001B[32;49mpip install --upgrade pip\u001B[0m\n  Installing build dependencies: finished with status 'done'\n  Getting requirements to build wheel: started\n  Running command Getting requirements to build wheel\n  Getting requirements to build wheel: finished with status 'done'\n  Preparing metadata (pyproject.toml): started\n  Running command Preparing metadata (pyproject.toml)\n  Preparing metadata (pyproject.toml): finished with status 'done'\nBuilding wheels for collected packages: xProb\n  Building wheel for xProb (pyproject.toml): started\n  Running command Building wheel for xProb (pyproject.toml)\n  Building wheel for xProb (pyproject.toml): finished with status 'done'\n  Created wheel for xProb: filename=xprob-0.0.1-py3-none-any.whl size=8887 sha256=f81377c554c56d45048d6fd204a529a91c8971b7fd4b110775b8033a8ef7c723\n  Stored in directory: /tmp/pip-ephem-wheel-cache-j76veyay/wheels/f2/25/12/74ad66826285e3eb46ad4b5689e0a93dc3d40a83fb5b5f0436\nSuccessfully built xProb\nInstalling collected packages: xProb\n  changing mode of /local_disk0/.ephemeral_nfs/envs/pythonEnv-88c30c98-825d-48a8-bd21-1cd8959faedd/bin/xprob-cli to 755\nSuccessfully installed xProb-0.0.1\n\u001B[43mNote: you may need to restart the kernel using %restart_python or dbutils.library.restartPython() to use updated packages.\u001B[0m\n"
     ]
    }
   ],
   "source": [
    "%pip uninstall -y xProb\n",
    "%pip install --verbose --no-cache-dir git+https://github.com/dawnsong/xProb.git\n",
    "# %pip install bokeh\n",
    "# dbutils.library.restartPython() #Databricks 13.3\n",
    "%restart_python"
   ]
  },
  {
   "cell_type": "code",
   "execution_count": 0,
   "metadata": {
    "application/vnd.databricks.v1+cell": {
     "cellMetadata": {
      "byteLimit": 2048000,
      "rowLimit": 10000
     },
     "inputWidgets": {},
     "nuid": "ef0ed040-b324-49f2-8479-362420dae7b3",
     "showTitle": true,
     "tableResultSettingsMap": {},
     "title": "Create random variables with certain Pearson Correlation"
    }
   },
   "outputs": [
    {
     "output_type": "display_data",
     "data": {
      "text/html": [
       "<style scoped>\n",
       "  .table-result-container {\n",
       "    max-height: 300px;\n",
       "    overflow: auto;\n",
       "  }\n",
       "  table, th, td {\n",
       "    border: 1px solid black;\n",
       "    border-collapse: collapse;\n",
       "  }\n",
       "  th, td {\n",
       "    padding: 5px;\n",
       "  }\n",
       "  th {\n",
       "    text-align: left;\n",
       "  }\n",
       "</style><div class='table-result-container'><table class='table-result'><thead style='background-color: white'><tr><th>id</th><th>rand1</th><th>rand2</th><th>rand3</th><th>noise</th><th>rand27</th></tr></thead><tbody><tr><td>0</td><td>0.6052961497101765</td><td>0.47642942081748424</td><td>-2.405995400247006</td><td>0.06820277314606608</td><td>0.5719133032219768</td></tr><tr><td>1</td><td>0.5175556654925846</td><td>-2.8183235083607365</td><td>-0.2948436991040121</td><td>-0.9025349519641244</td><td>-4.0818724411105105</td></tr><tr><td>2</td><td>1.4945932341769506</td><td>-1.003905503671731</td><td>-4.938428112049059</td><td>0.332073523058023</td><td>-0.5390025713904989</td></tr><tr><td>3</td><td>0.4694026953485503</td><td>0.5651585732634093</td><td>-3.4590827058538</td><td>0.9457412781348254</td><td>1.8891963626521648</td></tr><tr><td>4</td><td>0.20187454415240125</td><td>-0.253161514688965</td><td>-3.686394443131959</td><td>-0.09641624938887307</td><td>-0.3881442638333873</td></tr></tbody></table></div>"
      ]
     },
     "metadata": {
      "application/vnd.databricks.v1+output": {
       "addedWidgets": {},
       "aggData": [],
       "aggError": "",
       "aggOverflow": false,
       "aggSchema": [],
       "aggSeriesLimitReached": false,
       "aggType": "",
       "arguments": {},
       "columnCustomDisplayInfos": {},
       "data": [
        [
         0,
         0.6052961497101765,
         0.47642942081748424,
         -2.405995400247006,
         0.06820277314606608,
         0.5719133032219768
        ],
        [
         1,
         0.5175556654925846,
         -2.8183235083607365,
         -0.2948436991040121,
         -0.9025349519641244,
         -4.0818724411105105
        ],
        [
         2,
         1.4945932341769506,
         -1.003905503671731,
         -4.938428112049059,
         0.332073523058023,
         -0.5390025713904989
        ],
        [
         3,
         0.4694026953485503,
         0.5651585732634093,
         -3.4590827058538,
         0.9457412781348254,
         1.8891963626521648
        ],
        [
         4,
         0.20187454415240125,
         -0.253161514688965,
         -3.686394443131959,
         -0.09641624938887307,
         -0.3881442638333873
        ]
       ],
       "datasetInfos": [],
       "dbfsResultPath": null,
       "isJsonSchema": true,
       "metadata": {},
       "overflow": false,
       "plotOptions": {
        "customPlotOptions": {},
        "displayType": "table",
        "pivotAggregation": null,
        "pivotColumns": null,
        "xColumns": null,
        "yColumns": null
       },
       "removedWidgets": [],
       "schema": [
        {
         "metadata": "{}",
         "name": "id",
         "type": "\"long\""
        },
        {
         "metadata": "{}",
         "name": "rand1",
         "type": "\"double\""
        },
        {
         "metadata": "{}",
         "name": "rand2",
         "type": "\"double\""
        },
        {
         "metadata": "{}",
         "name": "rand3",
         "type": "\"double\""
        },
        {
         "metadata": "{}",
         "name": "noise",
         "type": "\"double\""
        },
        {
         "metadata": "{}",
         "name": "rand27",
         "type": "\"double\""
        }
       ],
       "type": "table"
      }
     },
     "output_type": "display_data"
    }
   ],
   "source": [
    "from pyspark.sql.functions import rand, randn, col\n",
    "d1=spark.range(0, 5000, 1, 1).withColumn('rand1', rand() * 1.5)\\\n",
    "    .withColumn('rand2', randn() * 2)\\\n",
    "    .withColumn('rand3', rand() * -5)\\\n",
    "    .withColumn('noise', randn() )\\\n",
    "    .withColumn('rand27', col('rand2')+.7*2*col('noise')) #rand27 may have Pearson correlation with rand2 aproximate about 0.7\n",
    "display(d1.limit(5))"
   ]
  },
  {
   "cell_type": "code",
   "execution_count": 0,
   "metadata": {
    "application/vnd.databricks.v1+cell": {
     "cellMetadata": {
      "byteLimit": 2048000,
      "rowLimit": 10000
     },
     "inputWidgets": {},
     "nuid": "c6ad405a-2bf2-4771-9a73-e38db19619ec",
     "showTitle": false,
     "tableResultSettingsMap": {},
     "title": ""
    }
   },
   "outputs": [
    {
     "output_type": "execute_result",
     "data": {
      "text/plain": [
       "0.8272198834941065"
      ]
     },
     "execution_count": 8,
     "metadata": {},
     "output_type": "execute_result"
    }
   ],
   "source": [
    "d1.stat.corr('rand2', 'rand27') #0.818"
   ]
  },
  {
   "cell_type": "code",
   "execution_count": 0,
   "metadata": {
    "application/vnd.databricks.v1+cell": {
     "cellMetadata": {
      "byteLimit": 2048000,
      "rowLimit": 10000
     },
     "inputWidgets": {},
     "nuid": "0f6da2e6-dc4e-4b5a-aa51-7ccb5886e148",
     "showTitle": false,
     "tableResultSettingsMap": {},
     "title": ""
    }
   },
   "outputs": [
    {
     "output_type": "display_data",
     "data": {
      "image/png": "[encoded data removed]",
      "text/plain": [
       "<Figure size 640x480 with 2 Axes>"
      ]
     },
     "metadata": {},
     "output_type": "display_data"
    }
   ],
   "source": [
    "from xProb.corr import pcorr4df, bokeh4pcorr, bokeh4pcorr_v1\n",
    "rmat, rsim, labels=pcorr4df(d1.drop('id'), imshow=True)"
   ]
  },
  {
   "cell_type": "code",
   "execution_count": 0,
   "metadata": {
    "application/vnd.databricks.v1+cell": {
     "cellMetadata": {
      "byteLimit": 2048000,
      "rowLimit": 10000
     },
     "inputWidgets": {},
     "nuid": "90158793-43d7-4b01-aa5e-c7de7fd5a444",
     "showTitle": false,
     "tableResultSettingsMap": {},
     "title": ""
    }
   },
   "outputs": [
    {
     "output_type": "display_data",
     "data": {
      "text/html": [
       "<!DOCTYPE html>\n",
       "<html lang=\"en\">\n",
       "  <head>\n",
       "    <meta charset=\"utf-8\">\n",
       "    <title>Pearson Correlation</title>\n",
       "    <style>\n",
       "      html, body {\n",
       "        box-sizing: border-box;\n",
       "        display: flow-root;\n",
       "        height: 100%;\n",
       "        margin: 0;\n",
       "        padding: 0;\n",
       "      }\n",
       "    </style>\n",
       "    <script type=\"text/javascript\" src=\"https://cdn.bokeh.org/bokeh/release/bokeh-3.7.0.min.js\"></script>\n",
       "    <script type=\"text/javascript\">\n",
       "        Bokeh.set_log_level(\"info\");\n",
       "    </script>\n",
       "  </head>\n",
       "  <body>\n",
       "    <div id=\"e10f91aa-a805-44ee-81be-b5dc6fe8ec7c\" data-root-id=\"p1043\" style=\"display: contents;\"></div>\n",
       "  \n",
       "    <script type=\"application/json\" id=\"b3afbe1a-5d9b-4f73-9217-661c81ab4671\">\n",
       "      {\"09644f8a-7a32-47c9-adcb-ca62466076f8\":{\"version\":\"3.7.0\",\"title\":\"Bokeh Application\",\"roots\":[{\"type\":\"object\",\"name\":\"Figure\",\"id\":\"p1043\",\"attributes\":{\"width\":900,\"height\":800,\"x_range\":{\"type\":\"object\",\"name\":\"FactorRange\",\"id\":\"p1053\",\"attributes\":{\"factors\":[\"rand27\",\"noise\",\"rand3\",\"rand2\",\"rand1\"]}},\"y_range\":{\"type\":\"object\",\"name\":\"FactorRange\",\"id\":\"p1054\",\"attributes\":{\"factors\":[\"rand1\",\"rand2\",\"rand3\",\"noise\",\"rand27\"]}},\"x_scale\":{\"type\":\"object\",\"name\":\"CategoricalScale\",\"id\":\"p1055\"},\"y_scale\":{\"type\":\"object\",\"name\":\"CategoricalScale\",\"id\":\"p1056\"},\"title\":{\"type\":\"object\",\"name\":\"Title\",\"id\":\"p1046\",\"attributes\":{\"text\":\"Pearson Correlation\"}},\"renderers\":[{\"type\":\"object\",\"name\":\"GlyphRenderer\",\"id\":\"p1079\",\"attributes\":{\"data_source\":{\"type\":\"object\",\"name\":\"ColumnDataSource\",\"id\":\"p1069\",\"attributes\":{\"selected\":{\"type\":\"object\",\"name\":\"Selection\",\"id\":\"p1070\",\"attributes\":{\"indices\":[],\"line_indices\":[]}},\"selection_policy\":{\"type\":\"object\",\"name\":\"UnionRenderers\",\"id\":\"p1071\"},\"data\":{\"type\":\"map\",\"entries\":[[\"xname\",[\"rand1\",\"rand1\",\"rand1\",\"rand1\",\"rand1\",\"rand2\",\"rand2\",\"rand2\",\"rand2\",\"rand2\",\"rand3\",\"rand3\",\"rand3\",\"rand3\",\"rand3\",\"noise\",\"noise\",\"noise\",\"noise\",\"noise\",\"rand27\",\"rand27\",\"rand27\",\"rand27\",\"rand27\"]],[\"yname\",[\"rand1\",\"rand2\",\"rand3\",\"noise\",\"rand27\",\"rand1\",\"rand2\",\"rand3\",\"noise\",\"rand27\",\"rand1\",\"rand2\",\"rand3\",\"noise\",\"rand27\",\"rand1\",\"rand2\",\"rand3\",\"noise\",\"rand27\",\"rand1\",\"rand2\",\"rand3\",\"noise\",\"rand27\"]],[\"colors\",[\"#b40426\",\"#dcdddd\",\"#6180e9\",\"#dcdddd\",\"#dbdcde\",\"#dcdddd\",\"#b40426\",\"#dcdddd\",\"#dfdbd9\",\"#d24b40\",\"#6180e9\",\"#dcdddd\",\"#b40426\",\"#dfdbd9\",\"#dedcdb\",\"#dcdddd\",\"#dfdbd9\",\"#dfdbd9\",\"#b40426\",\"#f08a6c\",\"#dbdcde\",\"#d24b40\",\"#dedcdb\",\"#f08a6c\",\"#b40426\"]],[\"alphas\",[1,1,1,1,1,1,1,1,1,1,1,1,1,1,1,1,1,1,1,1,1,1,1,1,1]],[\"pcorr\",[1.0,-0.0057301528367979075,-0.7547679750357291,-0.005590391508777369,-0.007825637933167616,-0.0057301528367979075,1.0,-0.001253789351144347,0.01742597136050853,0.8271949529323647,-0.7547679750357291,-0.001253789351144347,1.0,0.023147810316418858,0.011984228699553883,-0.005590391508777369,0.01742597136050853,0.023147810316418858,1.0,0.5762443901854544,-0.007825637933167616,0.8271949529323647,0.011984228699553883,0.5762443901854544,1.0]]]}}},\"view\":{\"type\":\"object\",\"name\":\"CDSView\",\"id\":\"p1080\",\"attributes\":{\"filter\":{\"type\":\"object\",\"name\":\"AllIndices\",\"id\":\"p1081\"}}},\"glyph\":{\"type\":\"object\",\"name\":\"Rect\",\"id\":\"p1075\",\"attributes\":{\"x\":{\"type\":\"field\",\"field\":\"xname\"},\"y\":{\"type\":\"field\",\"field\":\"yname\"},\"width\":{\"type\":\"value\",\"value\":1},\"height\":{\"type\":\"value\",\"value\":1},\"line_color\":{\"type\":\"value\",\"value\":null},\"line_alpha\":{\"type\":\"field\",\"field\":\"alphas\"},\"fill_color\":{\"type\":\"field\",\"field\":\"colors\"},\"fill_alpha\":{\"type\":\"field\",\"field\":\"alphas\"},\"hatch_color\":{\"type\":\"field\",\"field\":\"colors\"},\"hatch_alpha\":{\"type\":\"field\",\"field\":\"alphas\"}}},\"nonselection_glyph\":{\"type\":\"object\",\"name\":\"Rect\",\"id\":\"p1076\",\"attributes\":{\"x\":{\"type\":\"field\",\"field\":\"xname\"},\"y\":{\"type\":\"field\",\"field\":\"yname\"},\"width\":{\"type\":\"value\",\"value\":1},\"height\":{\"type\":\"value\",\"value\":1},\"line_color\":{\"type\":\"value\",\"value\":null},\"line_alpha\":{\"type\":\"value\",\"value\":0.1},\"fill_color\":{\"type\":\"field\",\"field\":\"colors\"},\"fill_alpha\":{\"type\":\"value\",\"value\":0.1},\"hatch_color\":{\"type\":\"field\",\"field\":\"colors\"},\"hatch_alpha\":{\"type\":\"value\",\"value\":0.1}}},\"hover_glyph\":{\"type\":\"object\",\"name\":\"Rect\",\"id\":\"p1077\",\"attributes\":{\"x\":{\"type\":\"field\",\"field\":\"xname\"},\"y\":{\"type\":\"field\",\"field\":\"yname\"},\"width\":{\"type\":\"value\",\"value\":1},\"height\":{\"type\":\"value\",\"value\":1},\"line_alpha\":{\"type\":\"field\",\"field\":\"alphas\"},\"fill_color\":{\"type\":\"field\",\"field\":\"colors\"},\"fill_alpha\":{\"type\":\"field\",\"field\":\"alphas\"},\"hatch_color\":{\"type\":\"field\",\"field\":\"colors\"},\"hatch_alpha\":{\"type\":\"field\",\"field\":\"alphas\"}}},\"muted_glyph\":{\"type\":\"object\",\"name\":\"Rect\",\"id\":\"p1078\",\"attributes\":{\"x\":{\"type\":\"field\",\"field\":\"xname\"},\"y\":{\"type\":\"field\",\"field\":\"yname\"},\"width\":{\"type\":\"value\",\"value\":1},\"height\":{\"type\":\"value\",\"value\":1},\"line_color\":{\"type\":\"value\",\"value\":null},\"line_alpha\":{\"type\":\"value\",\"value\":0.2},\"fill_color\":{\"type\":\"field\",\"field\":\"colors\"},\"fill_alpha\":{\"type\":\"value\",\"value\":0.2},\"hatch_color\":{\"type\":\"field\",\"field\":\"colors\"},\"hatch_alpha\":{\"type\":\"value\",\"value\":0.2}}}}}],\"toolbar\":{\"type\":\"object\",\"name\":\"Toolbar\",\"id\":\"p1052\",\"attributes\":{\"tools\":[{\"type\":\"object\",\"name\":\"HoverTool\",\"id\":\"p1067\",\"attributes\":{\"renderers\":\"auto\",\"tooltips\":[[\"row\",\"@yname\"],[\"col\",\"@xname\"],[\"pcorr\",\"@pcorr\"]]}},{\"type\":\"object\",\"name\":\"SaveTool\",\"id\":\"p1068\"}]}},\"left\":[{\"type\":\"object\",\"name\":\"CategoricalAxis\",\"id\":\"p1062\",\"attributes\":{\"ticker\":{\"type\":\"object\",\"name\":\"CategoricalTicker\",\"id\":\"p1063\"},\"formatter\":{\"type\":\"object\",\"name\":\"CategoricalTickFormatter\",\"id\":\"p1064\"},\"major_label_standoff\":0,\"major_label_policy\":{\"type\":\"object\",\"name\":\"AllLabels\",\"id\":\"p1065\"},\"axis_line_color\":null,\"major_tick_line_color\":null}}],\"right\":[{\"type\":\"object\",\"name\":\"ColorBar\",\"id\":\"p1083\",\"attributes\":{\"location\":[0,0],\"major_label_policy\":{\"type\":\"object\",\"name\":\"NoOverlap\",\"id\":\"p1084\"},\"color_mapper\":{\"type\":\"object\",\"name\":\"LinearColorMapper\",\"id\":\"p1082\",\"attributes\":{\"palette\":[\"#3b4cc0\",\"#3b4cc0\",\"#3c4ec2\",\"#3c4ec2\",\"#3d50c3\",\"#3d50c3\",\"#3e51c5\",\"#3e51c5\",\"#3f53c6\",\"#3f53c6\",\"#4055c8\",\"#4055c8\",\"#4257c9\",\"#4257c9\",\"#4358cb\",\"#4358cb\",\"#445acc\",\"#445acc\",\"#455cce\",\"#455cce\",\"#465ecf\",\"#465ecf\",\"#485fd1\",\"#485fd1\",\"#4961d2\",\"#4961d2\",\"#4a63d3\",\"#4a63d3\",\"#4b64d5\",\"#4b64d5\",\"#4c66d6\",\"#4c66d6\",\"#4e68d8\",\"#4e68d8\",\"#4f69d9\",\"#4f69d9\",\"#506bda\",\"#506bda\",\"#516ddb\",\"#516ddb\",\"#536edd\",\"#536edd\",\"#5470de\",\"#5470de\",\"#5572df\",\"#5572df\",\"#5673e0\",\"#5673e0\",\"#5875e1\",\"#5875e1\",\"#5977e3\",\"#5977e3\",\"#5a78e4\",\"#5a78e4\",\"#5b7ae5\",\"#5b7ae5\",\"#5d7ce6\",\"#5d7ce6\",\"#5e7de7\",\"#5e7de7\",\"#5f7fe8\",\"#5f7fe8\",\"#6180e9\",\"#6180e9\",\"#6282ea\",\"#6282ea\",\"#6384eb\",\"#6384eb\",\"#6485ec\",\"#6485ec\",\"#6687ed\",\"#6687ed\",\"#6788ee\",\"#6788ee\",\"#688aef\",\"#688aef\",\"#6a8bef\",\"#6a8bef\",\"#6b8df0\",\"#6b8df0\",\"#6c8ff1\",\"#6c8ff1\",\"#6e90f2\",\"#6e90f2\",\"#6f92f3\",\"#6f92f3\",\"#7093f3\",\"#7093f3\",\"#7295f4\",\"#7295f4\",\"#7396f5\",\"#7396f5\",\"#7597f6\",\"#7597f6\",\"#7699f6\",\"#7699f6\",\"#779af7\",\"#779af7\",\"#799cf8\",\"#799cf8\",\"#7a9df8\",\"#7a9df8\",\"#7b9ff9\",\"#7b9ff9\",\"#7da0f9\",\"#7da0f9\",\"#7ea1fa\",\"#7ea1fa\",\"#80a3fa\",\"#80a3fa\",\"#81a4fb\",\"#81a4fb\",\"#82a6fb\",\"#82a6fb\",\"#84a7fc\",\"#84a7fc\",\"#85a8fc\",\"#85a8fc\",\"#86a9fc\",\"#86a9fc\",\"#88abfd\",\"#88abfd\",\"#89acfd\",\"#89acfd\",\"#8badfd\",\"#8badfd\",\"#8caffe\",\"#8caffe\",\"#8db0fe\",\"#8db0fe\",\"#8fb1fe\",\"#8fb1fe\",\"#90b2fe\",\"#90b2fe\",\"#92b4fe\",\"#92b4fe\",\"#93b5fe\",\"#93b5fe\",\"#94b6ff\",\"#94b6ff\",\"#96b7ff\",\"#96b7ff\",\"#97b8ff\",\"#97b8ff\",\"#98b9ff\",\"#98b9ff\",\"#9abbff\",\"#9abbff\",\"#9bbcff\",\"#9bbcff\",\"#9dbdff\",\"#9dbdff\",\"#9ebeff\",\"#9ebeff\",\"#9fbfff\",\"#9fbfff\",\"#a1c0ff\",\"#a1c0ff\",\"#a2c1ff\",\"#a2c1ff\",\"#a3c2fe\",\"#a3c2fe\",\"#a5c3fe\",\"#a5c3fe\",\"#a6c4fe\",\"#a6c4fe\",\"#a7c5fe\",\"#a7c5fe\",\"#a9c6fd\",\"#a9c6fd\",\"#aac7fd\",\"#aac7fd\",\"#abc8fd\",\"#abc8fd\",\"#adc9fd\",\"#adc9fd\",\"#aec9fc\",\"#aec9fc\",\"#afcafc\",\"#afcafc\",\"#b1cbfc\",\"#b1cbfc\",\"#b2ccfb\",\"#b2ccfb\",\"#b3cdfb\",\"#b3cdfb\",\"#b5cdfa\",\"#b5cdfa\",\"#b6cefa\",\"#b6cefa\",\"#b7cff9\",\"#b7cff9\",\"#b9d0f9\",\"#b9d0f9\",\"#bad0f8\",\"#bad0f8\",\"#bbd1f8\",\"#bbd1f8\",\"#bcd2f7\",\"#bcd2f7\",\"#bed2f6\",\"#bed2f6\",\"#bfd3f6\",\"#bfd3f6\",\"#c0d4f5\",\"#c0d4f5\",\"#c1d4f4\",\"#c1d4f4\",\"#c3d5f4\",\"#c3d5f4\",\"#c4d5f3\",\"#c4d5f3\",\"#c5d6f2\",\"#c5d6f2\",\"#c6d6f1\",\"#c6d6f1\",\"#c7d7f0\",\"#c7d7f0\",\"#c9d7f0\",\"#c9d7f0\",\"#cad8ef\",\"#cad8ef\",\"#cbd8ee\",\"#cbd8ee\",\"#ccd9ed\",\"#ccd9ed\",\"#cdd9ec\",\"#cdd9ec\",\"#cedaeb\",\"#cedaeb\",\"#cfdaea\",\"#cfdaea\",\"#d1dae9\",\"#d1dae9\",\"#d2dbe8\",\"#d2dbe8\",\"#d3dbe7\",\"#d3dbe7\",\"#d4dbe6\",\"#d4dbe6\",\"#d5dbe5\",\"#d5dbe5\",\"#d6dce4\",\"#d6dce4\",\"#d7dce3\",\"#d7dce3\",\"#d8dce2\",\"#d8dce2\",\"#d9dce1\",\"#d9dce1\",\"#dadce0\",\"#dadce0\",\"#dbdcde\",\"#dbdcde\",\"#dcdddd\",\"#dcdddd\",\"#dddcdc\",\"#dddcdc\",\"#dedcdb\",\"#dedcdb\",\"#dfdbd9\",\"#dfdbd9\",\"#e0dbd8\",\"#e0dbd8\",\"#e1dad6\",\"#e1dad6\",\"#e2dad5\",\"#e2dad5\",\"#e3d9d3\",\"#e3d9d3\",\"#e4d9d2\",\"#e4d9d2\",\"#e5d8d1\",\"#e5d8d1\",\"#e6d7cf\",\"#e6d7cf\",\"#e7d7ce\",\"#e7d7ce\",\"#e8d6cc\",\"#e8d6cc\",\"#e9d5cb\",\"#e9d5cb\",\"#ead5c9\",\"#ead5c9\",\"#ead4c8\",\"#ead4c8\",\"#ebd3c6\",\"#ebd3c6\",\"#ecd3c5\",\"#ecd3c5\",\"#edd2c3\",\"#edd2c3\",\"#edd1c2\",\"#edd1c2\",\"#eed0c0\",\"#eed0c0\",\"#efcfbf\",\"#efcfbf\",\"#efcebd\",\"#efcebd\",\"#f0cdbb\",\"#f0cdbb\",\"#f1cdba\",\"#f1cdba\",\"#f1ccb8\",\"#f1ccb8\",\"#f2cbb7\",\"#f2cbb7\",\"#f2cab5\",\"#f2cab5\",\"#f2c9b4\",\"#f2c9b4\",\"#f3c8b2\",\"#f3c8b2\",\"#f3c7b1\",\"#f3c7b1\",\"#f4c6af\",\"#f4c6af\",\"#f4c5ad\",\"#f4c5ad\",\"#f5c4ac\",\"#f5c4ac\",\"#f5c2aa\",\"#f5c2aa\",\"#f5c1a9\",\"#f5c1a9\",\"#f5c0a7\",\"#f5c0a7\",\"#f6bfa6\",\"#f6bfa6\",\"#f6bea4\",\"#f6bea4\",\"#f6bda2\",\"#f6bda2\",\"#f7bca1\",\"#f7bca1\",\"#f7ba9f\",\"#f7ba9f\",\"#f7b99e\",\"#f7b99e\",\"#f7b89c\",\"#f7b89c\",\"#f7b79b\",\"#f7b79b\",\"#f7b599\",\"#f7b599\",\"#f7b497\",\"#f7b497\",\"#f7b396\",\"#f7b396\",\"#f7b194\",\"#f7b194\",\"#f7b093\",\"#f7b093\",\"#f7af91\",\"#f7af91\",\"#f7ad90\",\"#f7ad90\",\"#f7ac8e\",\"#f7ac8e\",\"#f7aa8c\",\"#f7aa8c\",\"#f7a98b\",\"#f7a98b\",\"#f7a889\",\"#f7a889\",\"#f7a688\",\"#f7a688\",\"#f6a586\",\"#f6a586\",\"#f6a385\",\"#f6a385\",\"#f6a283\",\"#f6a283\",\"#f5a081\",\"#f5a081\",\"#f59f80\",\"#f59f80\",\"#f59d7e\",\"#f59d7e\",\"#f59c7d\",\"#f59c7d\",\"#f49a7b\",\"#f49a7b\",\"#f4987a\",\"#f4987a\",\"#f39778\",\"#f39778\",\"#f39577\",\"#f39577\",\"#f39475\",\"#f39475\",\"#f29274\",\"#f29274\",\"#f29072\",\"#f29072\",\"#f18f71\",\"#f18f71\",\"#f18d6f\",\"#f18d6f\",\"#f08b6e\",\"#f08b6e\",\"#f08a6c\",\"#f08a6c\",\"#ef886b\",\"#ef886b\",\"#ee8669\",\"#ee8669\",\"#ee8468\",\"#ee8468\",\"#ed8366\",\"#ed8366\",\"#ec8165\",\"#ec8165\",\"#ec7f63\",\"#ec7f63\",\"#eb7d62\",\"#eb7d62\",\"#ea7b60\",\"#ea7b60\",\"#e97a5f\",\"#e97a5f\",\"#e9785d\",\"#e9785d\",\"#e8765c\",\"#e8765c\",\"#e7745b\",\"#e7745b\",\"#e67259\",\"#e67259\",\"#e57058\",\"#e57058\",\"#e46e56\",\"#e46e56\",\"#e36c55\",\"#e36c55\",\"#e36b54\",\"#e36b54\",\"#e26952\",\"#e26952\",\"#e16751\",\"#e16751\",\"#e0654f\",\"#e0654f\",\"#df634e\",\"#df634e\",\"#de614d\",\"#de614d\",\"#dd5f4b\",\"#dd5f4b\",\"#dc5d4a\",\"#dc5d4a\",\"#da5a49\",\"#da5a49\",\"#d95847\",\"#d95847\",\"#d85646\",\"#d85646\",\"#d75445\",\"#d75445\",\"#d65244\",\"#d65244\",\"#d55042\",\"#d55042\",\"#d44e41\",\"#d44e41\",\"#d24b40\",\"#d24b40\",\"#d1493f\",\"#d1493f\",\"#d0473d\",\"#d0473d\",\"#cf453c\",\"#cf453c\",\"#cd423b\",\"#cd423b\",\"#cc403a\",\"#cc403a\",\"#cb3e38\",\"#cb3e38\",\"#ca3b37\",\"#ca3b37\",\"#c83836\",\"#c83836\",\"#c73635\",\"#c73635\",\"#c53334\",\"#c53334\",\"#c43032\",\"#c43032\",\"#c32e31\",\"#c32e31\",\"#c12b30\",\"#c12b30\",\"#c0282f\",\"#c0282f\",\"#be242e\",\"#be242e\",\"#bd1f2d\",\"#bd1f2d\",\"#bb1b2c\",\"#bb1b2c\",\"#ba162b\",\"#ba162b\",\"#b8122a\",\"#b8122a\",\"#b70d28\",\"#b70d28\",\"#b50927\",\"#b50927\",\"#b40426\",\"#b40426\"],\"low\":-1,\"high\":1}}}}],\"above\":[{\"type\":\"object\",\"name\":\"CategoricalAxis\",\"id\":\"p1057\",\"attributes\":{\"ticker\":{\"type\":\"object\",\"name\":\"CategoricalTicker\",\"id\":\"p1058\"},\"formatter\":{\"type\":\"object\",\"name\":\"CategoricalTickFormatter\",\"id\":\"p1059\"},\"major_label_standoff\":0,\"major_label_orientation\":0.7853981633974483,\"major_label_policy\":{\"type\":\"object\",\"name\":\"AllLabels\",\"id\":\"p1060\"},\"axis_line_color\":null,\"major_tick_line_color\":null}}],\"center\":[{\"type\":\"object\",\"name\":\"Grid\",\"id\":\"p1061\",\"attributes\":{\"axis\":{\"id\":\"p1057\"},\"grid_line_color\":null}},{\"type\":\"object\",\"name\":\"Grid\",\"id\":\"p1066\",\"attributes\":{\"dimension\":1,\"axis\":{\"id\":\"p1062\"},\"grid_line_color\":null}}]}}]}}\n",
       "    </script>\n",
       "    <script type=\"text/javascript\">\n",
       "      (function() {\n",
       "        const fn = function() {\n",
       "          Bokeh.safely(function() {\n",
       "            (function(root) {\n",
       "              function embed_document(root) {\n",
       "              const docs_json = document.getElementById('b3afbe1a-5d9b-4f73-9217-661c81ab4671').textContent;\n",
       "              const render_items = [{\"docid\":\"09644f8a-7a32-47c9-adcb-ca62466076f8\",\"roots\":{\"p1043\":\"e10f91aa-a805-44ee-81be-b5dc6fe8ec7c\"},\"root_ids\":[\"p1043\"]}];\n",
       "              root.Bokeh.embed.embed_items(docs_json, render_items);\n",
       "              }\n",
       "              if (root.Bokeh !== undefined) {\n",
       "                embed_document(root);\n",
       "              } else {\n",
       "                let attempts = 0;\n",
       "                const timer = setInterval(function(root) {\n",
       "                  if (root.Bokeh !== undefined) {\n",
       "                    clearInterval(timer);\n",
       "                    embed_document(root);\n",
       "                  } else {\n",
       "                    attempts++;\n",
       "                    if (attempts > 100) {\n",
       "                      clearInterval(timer);\n",
       "                      console.log(\"Bokeh: ERROR: Unable to run BokehJS code because BokehJS library is missing\");\n",
       "                    }\n",
       "                  }\n",
       "                }, 10, root)\n",
       "              }\n",
       "            })(window);\n",
       "          });\n",
       "        };\n",
       "        if (document.readyState != \"loading\") fn();\n",
       "        else document.addEventListener(\"DOMContentLoaded\", fn);\n",
       "      })();\n",
       "    </script>\n",
       "  </body>\n",
       "</html>"
      ]
     },
     "metadata": {},
     "output_type": "display_data"
    }
   ],
   "source": [
    "html=bokeh4pcorr(rmat, labels, width=900, height=800, title=\"Pearson Correlation\")"
   ]
  },
  {
   "cell_type": "code",
   "execution_count": 0,
   "metadata": {
    "application/vnd.databricks.v1+cell": {
     "cellMetadata": {
      "byteLimit": 2048000,
      "rowLimit": 10000
     },
     "inputWidgets": {},
     "nuid": "46cae107-6c9e-48d6-aad4-aae9ed275605",
     "showTitle": false,
     "tableResultSettingsMap": {},
     "title": ""
    }
   },
   "outputs": [
    {
     "output_type": "display_data",
     "data": {
      "text/html": [
       "<!DOCTYPE html>\n",
       "<html lang=\"en\">\n",
       "  <head>\n",
       "    <meta charset=\"utf-8\">\n",
       "    <title>Pearson Correlation</title>\n",
       "    <style>\n",
       "      html, body {\n",
       "        box-sizing: border-box;\n",
       "        display: flow-root;\n",
       "        height: 100%;\n",
       "        margin: 0;\n",
       "        padding: 0;\n",
       "      }\n",
       "    </style>\n",
       "    <script type=\"text/javascript\" src=\"https://cdn.bokeh.org/bokeh/release/bokeh-3.7.0.min.js\"></script>\n",
       "    <script type=\"text/javascript\">\n",
       "        Bokeh.set_log_level(\"info\");\n",
       "    </script>\n",
       "  </head>\n",
       "  <body>\n",
       "    <div id=\"efcdb5a0-1be5-4a30-99e1-f87571bb2b53\" data-root-id=\"p1001\" style=\"display: contents;\"></div>\n",
       "  \n",
       "    <script type=\"application/json\" id=\"f56ef35c-e07b-497e-a491-48cbda82a44f\">\n",
       "      {\"c2061a51-25ac-460e-88ee-8da0179bf5c7\":{\"version\":\"3.7.0\",\"title\":\"Bokeh Application\",\"roots\":[{\"type\":\"object\",\"name\":\"Figure\",\"id\":\"p1001\",\"attributes\":{\"width\":900,\"height\":800,\"x_range\":{\"type\":\"object\",\"name\":\"FactorRange\",\"id\":\"p1011\",\"attributes\":{\"factors\":[\"rand27\",\"noise\",\"rand3\",\"rand2\",\"rand1\"]}},\"y_range\":{\"type\":\"object\",\"name\":\"FactorRange\",\"id\":\"p1012\",\"attributes\":{\"factors\":[\"rand1\",\"rand2\",\"rand3\",\"noise\",\"rand27\"]}},\"x_scale\":{\"type\":\"object\",\"name\":\"CategoricalScale\",\"id\":\"p1013\"},\"y_scale\":{\"type\":\"object\",\"name\":\"CategoricalScale\",\"id\":\"p1014\"},\"title\":{\"type\":\"object\",\"name\":\"Title\",\"id\":\"p1004\",\"attributes\":{\"text\":\"Pearson Correlation\"}},\"renderers\":[{\"type\":\"object\",\"name\":\"GlyphRenderer\",\"id\":\"p1037\",\"attributes\":{\"data_source\":{\"type\":\"object\",\"name\":\"ColumnDataSource\",\"id\":\"p1027\",\"attributes\":{\"selected\":{\"type\":\"object\",\"name\":\"Selection\",\"id\":\"p1028\",\"attributes\":{\"indices\":[],\"line_indices\":[]}},\"selection_policy\":{\"type\":\"object\",\"name\":\"UnionRenderers\",\"id\":\"p1029\"},\"data\":{\"type\":\"map\",\"entries\":[[\"xname\",[\"rand1\",\"rand1\",\"rand1\",\"rand1\",\"rand1\",\"rand2\",\"rand2\",\"rand2\",\"rand2\",\"rand2\",\"rand3\",\"rand3\",\"rand3\",\"rand3\",\"rand3\",\"noise\",\"noise\",\"noise\",\"noise\",\"noise\",\"rand27\",\"rand27\",\"rand27\",\"rand27\",\"rand27\"]],[\"yname\",[\"rand1\",\"rand2\",\"rand3\",\"noise\",\"rand27\",\"rand1\",\"rand2\",\"rand3\",\"noise\",\"rand27\",\"rand1\",\"rand2\",\"rand3\",\"noise\",\"rand27\",\"rand1\",\"rand2\",\"rand3\",\"noise\",\"rand27\",\"rand1\",\"rand2\",\"rand3\",\"noise\",\"rand27\"]],[\"colors\",[\"#b40426\",\"#dddcdc\",\"#6180e9\",\"#dddcdc\",\"#dddcdc\",\"#dddcdc\",\"#b40426\",\"#dedcdb\",\"#dfdbd9\",\"#d24b40\",\"#6180e9\",\"#dedcdb\",\"#b40426\",\"#dcdddd\",\"#dddcdc\",\"#dddcdc\",\"#dfdbd9\",\"#dcdddd\",\"#b40426\",\"#ef886b\",\"#dddcdc\",\"#d24b40\",\"#dddcdc\",\"#ef886b\",\"#b40426\"]],[\"alphas\",[1,1,1,1,1,1,1,1,1,1,1,1,1,1,1,1,1,1,1,1,1,1,1,1,1]],[\"pcorr\",[1.0,0.002912290314988027,-0.7526253722245969,0.005218276530616144,0.0053287574290684266,0.002912290314988027,1.0,0.009811654166180158,0.02084702537727331,0.8226497666728488,-0.7526253722245969,0.009811654166180158,1.0,-0.0035209066479406385,0.005952995449327699,0.005218276530616144,0.02084702537727331,-0.0035209066479406385,1.0,0.5855747108059639,0.0053287574290684266,0.8226497666728488,0.005952995449327699,0.5855747108059639,1.0]]]}}},\"view\":{\"type\":\"object\",\"name\":\"CDSView\",\"id\":\"p1038\",\"attributes\":{\"filter\":{\"type\":\"object\",\"name\":\"AllIndices\",\"id\":\"p1039\"}}},\"glyph\":{\"type\":\"object\",\"name\":\"Rect\",\"id\":\"p1033\",\"attributes\":{\"x\":{\"type\":\"field\",\"field\":\"xname\"},\"y\":{\"type\":\"field\",\"field\":\"yname\"},\"width\":{\"type\":\"value\",\"value\":1},\"height\":{\"type\":\"value\",\"value\":1},\"line_color\":{\"type\":\"value\",\"value\":null},\"line_alpha\":{\"type\":\"field\",\"field\":\"alphas\"},\"fill_color\":{\"type\":\"field\",\"field\":\"colors\"},\"fill_alpha\":{\"type\":\"field\",\"field\":\"alphas\"},\"hatch_color\":{\"type\":\"field\",\"field\":\"colors\"},\"hatch_alpha\":{\"type\":\"field\",\"field\":\"alphas\"}}},\"nonselection_glyph\":{\"type\":\"object\",\"name\":\"Rect\",\"id\":\"p1034\",\"attributes\":{\"x\":{\"type\":\"field\",\"field\":\"xname\"},\"y\":{\"type\":\"field\",\"field\":\"yname\"},\"width\":{\"type\":\"value\",\"value\":1},\"height\":{\"type\":\"value\",\"value\":1},\"line_color\":{\"type\":\"value\",\"value\":null},\"line_alpha\":{\"type\":\"value\",\"value\":0.1},\"fill_color\":{\"type\":\"field\",\"field\":\"colors\"},\"fill_alpha\":{\"type\":\"value\",\"value\":0.1},\"hatch_color\":{\"type\":\"field\",\"field\":\"colors\"},\"hatch_alpha\":{\"type\":\"value\",\"value\":0.1}}},\"hover_glyph\":{\"type\":\"object\",\"name\":\"Rect\",\"id\":\"p1035\",\"attributes\":{\"x\":{\"type\":\"field\",\"field\":\"xname\"},\"y\":{\"type\":\"field\",\"field\":\"yname\"},\"width\":{\"type\":\"value\",\"value\":1},\"height\":{\"type\":\"value\",\"value\":1},\"line_alpha\":{\"type\":\"field\",\"field\":\"alphas\"},\"fill_color\":{\"type\":\"field\",\"field\":\"colors\"},\"fill_alpha\":{\"type\":\"field\",\"field\":\"alphas\"},\"hatch_color\":{\"type\":\"field\",\"field\":\"colors\"},\"hatch_alpha\":{\"type\":\"field\",\"field\":\"alphas\"}}},\"muted_glyph\":{\"type\":\"object\",\"name\":\"Rect\",\"id\":\"p1036\",\"attributes\":{\"x\":{\"type\":\"field\",\"field\":\"xname\"},\"y\":{\"type\":\"field\",\"field\":\"yname\"},\"width\":{\"type\":\"value\",\"value\":1},\"height\":{\"type\":\"value\",\"value\":1},\"line_color\":{\"type\":\"value\",\"value\":null},\"line_alpha\":{\"type\":\"value\",\"value\":0.2},\"fill_color\":{\"type\":\"field\",\"field\":\"colors\"},\"fill_alpha\":{\"type\":\"value\",\"value\":0.2},\"hatch_color\":{\"type\":\"field\",\"field\":\"colors\"},\"hatch_alpha\":{\"type\":\"value\",\"value\":0.2}}}}}],\"toolbar\":{\"type\":\"object\",\"name\":\"Toolbar\",\"id\":\"p1010\",\"attributes\":{\"tools\":[{\"type\":\"object\",\"name\":\"HoverTool\",\"id\":\"p1025\",\"attributes\":{\"renderers\":\"auto\",\"tooltips\":[[\"row\",\"@yname\"],[\"col\",\"@xname\"],[\"pcorr\",\"@pcorr\"]]}},{\"type\":\"object\",\"name\":\"SaveTool\",\"id\":\"p1026\"}]}},\"left\":[{\"type\":\"object\",\"name\":\"CategoricalAxis\",\"id\":\"p1020\",\"attributes\":{\"ticker\":{\"type\":\"object\",\"name\":\"CategoricalTicker\",\"id\":\"p1021\"},\"formatter\":{\"type\":\"object\",\"name\":\"CategoricalTickFormatter\",\"id\":\"p1022\"},\"major_label_standoff\":0,\"major_label_policy\":{\"type\":\"object\",\"name\":\"AllLabels\",\"id\":\"p1023\"},\"axis_line_color\":null,\"major_tick_line_color\":null}}],\"right\":[{\"type\":\"object\",\"name\":\"ColorBar\",\"id\":\"p1041\",\"attributes\":{\"location\":[0,0],\"major_label_policy\":{\"type\":\"object\",\"name\":\"NoOverlap\",\"id\":\"p1042\"},\"color_mapper\":{\"type\":\"object\",\"name\":\"LinearColorMapper\",\"id\":\"p1040\",\"attributes\":{\"palette\":[\"#3b4cc0\",\"#3b4cc0\",\"#3c4ec2\",\"#3c4ec2\",\"#3d50c3\",\"#3d50c3\",\"#3e51c5\",\"#3e51c5\",\"#3f53c6\",\"#3f53c6\",\"#4055c8\",\"#4055c8\",\"#4257c9\",\"#4257c9\",\"#4358cb\",\"#4358cb\",\"#445acc\",\"#445acc\",\"#455cce\",\"#455cce\",\"#465ecf\",\"#465ecf\",\"#485fd1\",\"#485fd1\",\"#4961d2\",\"#4961d2\",\"#4a63d3\",\"#4a63d3\",\"#4b64d5\",\"#4b64d5\",\"#4c66d6\",\"#4c66d6\",\"#4e68d8\",\"#4e68d8\",\"#4f69d9\",\"#4f69d9\",\"#506bda\",\"#506bda\",\"#516ddb\",\"#516ddb\",\"#536edd\",\"#536edd\",\"#5470de\",\"#5470de\",\"#5572df\",\"#5572df\",\"#5673e0\",\"#5673e0\",\"#5875e1\",\"#5875e1\",\"#5977e3\",\"#5977e3\",\"#5a78e4\",\"#5a78e4\",\"#5b7ae5\",\"#5b7ae5\",\"#5d7ce6\",\"#5d7ce6\",\"#5e7de7\",\"#5e7de7\",\"#5f7fe8\",\"#5f7fe8\",\"#6180e9\",\"#6180e9\",\"#6282ea\",\"#6282ea\",\"#6384eb\",\"#6384eb\",\"#6485ec\",\"#6485ec\",\"#6687ed\",\"#6687ed\",\"#6788ee\",\"#6788ee\",\"#688aef\",\"#688aef\",\"#6a8bef\",\"#6a8bef\",\"#6b8df0\",\"#6b8df0\",\"#6c8ff1\",\"#6c8ff1\",\"#6e90f2\",\"#6e90f2\",\"#6f92f3\",\"#6f92f3\",\"#7093f3\",\"#7093f3\",\"#7295f4\",\"#7295f4\",\"#7396f5\",\"#7396f5\",\"#7597f6\",\"#7597f6\",\"#7699f6\",\"#7699f6\",\"#779af7\",\"#779af7\",\"#799cf8\",\"#799cf8\",\"#7a9df8\",\"#7a9df8\",\"#7b9ff9\",\"#7b9ff9\",\"#7da0f9\",\"#7da0f9\",\"#7ea1fa\",\"#7ea1fa\",\"#80a3fa\",\"#80a3fa\",\"#81a4fb\",\"#81a4fb\",\"#82a6fb\",\"#82a6fb\",\"#84a7fc\",\"#84a7fc\",\"#85a8fc\",\"#85a8fc\",\"#86a9fc\",\"#86a9fc\",\"#88abfd\",\"#88abfd\",\"#89acfd\",\"#89acfd\",\"#8badfd\",\"#8badfd\",\"#8caffe\",\"#8caffe\",\"#8db0fe\",\"#8db0fe\",\"#8fb1fe\",\"#8fb1fe\",\"#90b2fe\",\"#90b2fe\",\"#92b4fe\",\"#92b4fe\",\"#93b5fe\",\"#93b5fe\",\"#94b6ff\",\"#94b6ff\",\"#96b7ff\",\"#96b7ff\",\"#97b8ff\",\"#97b8ff\",\"#98b9ff\",\"#98b9ff\",\"#9abbff\",\"#9abbff\",\"#9bbcff\",\"#9bbcff\",\"#9dbdff\",\"#9dbdff\",\"#9ebeff\",\"#9ebeff\",\"#9fbfff\",\"#9fbfff\",\"#a1c0ff\",\"#a1c0ff\",\"#a2c1ff\",\"#a2c1ff\",\"#a3c2fe\",\"#a3c2fe\",\"#a5c3fe\",\"#a5c3fe\",\"#a6c4fe\",\"#a6c4fe\",\"#a7c5fe\",\"#a7c5fe\",\"#a9c6fd\",\"#a9c6fd\",\"#aac7fd\",\"#aac7fd\",\"#abc8fd\",\"#abc8fd\",\"#adc9fd\",\"#adc9fd\",\"#aec9fc\",\"#aec9fc\",\"#afcafc\",\"#afcafc\",\"#b1cbfc\",\"#b1cbfc\",\"#b2ccfb\",\"#b2ccfb\",\"#b3cdfb\",\"#b3cdfb\",\"#b5cdfa\",\"#b5cdfa\",\"#b6cefa\",\"#b6cefa\",\"#b7cff9\",\"#b7cff9\",\"#b9d0f9\",\"#b9d0f9\",\"#bad0f8\",\"#bad0f8\",\"#bbd1f8\",\"#bbd1f8\",\"#bcd2f7\",\"#bcd2f7\",\"#bed2f6\",\"#bed2f6\",\"#bfd3f6\",\"#bfd3f6\",\"#c0d4f5\",\"#c0d4f5\",\"#c1d4f4\",\"#c1d4f4\",\"#c3d5f4\",\"#c3d5f4\",\"#c4d5f3\",\"#c4d5f3\",\"#c5d6f2\",\"#c5d6f2\",\"#c6d6f1\",\"#c6d6f1\",\"#c7d7f0\",\"#c7d7f0\",\"#c9d7f0\",\"#c9d7f0\",\"#cad8ef\",\"#cad8ef\",\"#cbd8ee\",\"#cbd8ee\",\"#ccd9ed\",\"#ccd9ed\",\"#cdd9ec\",\"#cdd9ec\",\"#cedaeb\",\"#cedaeb\",\"#cfdaea\",\"#cfdaea\",\"#d1dae9\",\"#d1dae9\",\"#d2dbe8\",\"#d2dbe8\",\"#d3dbe7\",\"#d3dbe7\",\"#d4dbe6\",\"#d4dbe6\",\"#d5dbe5\",\"#d5dbe5\",\"#d6dce4\",\"#d6dce4\",\"#d7dce3\",\"#d7dce3\",\"#d8dce2\",\"#d8dce2\",\"#d9dce1\",\"#d9dce1\",\"#dadce0\",\"#dadce0\",\"#dbdcde\",\"#dbdcde\",\"#dcdddd\",\"#dcdddd\",\"#dddcdc\",\"#dddcdc\",\"#dedcdb\",\"#dedcdb\",\"#dfdbd9\",\"#dfdbd9\",\"#e0dbd8\",\"#e0dbd8\",\"#e1dad6\",\"#e1dad6\",\"#e2dad5\",\"#e2dad5\",\"#e3d9d3\",\"#e3d9d3\",\"#e4d9d2\",\"#e4d9d2\",\"#e5d8d1\",\"#e5d8d1\",\"#e6d7cf\",\"#e6d7cf\",\"#e7d7ce\",\"#e7d7ce\",\"#e8d6cc\",\"#e8d6cc\",\"#e9d5cb\",\"#e9d5cb\",\"#ead5c9\",\"#ead5c9\",\"#ead4c8\",\"#ead4c8\",\"#ebd3c6\",\"#ebd3c6\",\"#ecd3c5\",\"#ecd3c5\",\"#edd2c3\",\"#edd2c3\",\"#edd1c2\",\"#edd1c2\",\"#eed0c0\",\"#eed0c0\",\"#efcfbf\",\"#efcfbf\",\"#efcebd\",\"#efcebd\",\"#f0cdbb\",\"#f0cdbb\",\"#f1cdba\",\"#f1cdba\",\"#f1ccb8\",\"#f1ccb8\",\"#f2cbb7\",\"#f2cbb7\",\"#f2cab5\",\"#f2cab5\",\"#f2c9b4\",\"#f2c9b4\",\"#f3c8b2\",\"#f3c8b2\",\"#f3c7b1\",\"#f3c7b1\",\"#f4c6af\",\"#f4c6af\",\"#f4c5ad\",\"#f4c5ad\",\"#f5c4ac\",\"#f5c4ac\",\"#f5c2aa\",\"#f5c2aa\",\"#f5c1a9\",\"#f5c1a9\",\"#f5c0a7\",\"#f5c0a7\",\"#f6bfa6\",\"#f6bfa6\",\"#f6bea4\",\"#f6bea4\",\"#f6bda2\",\"#f6bda2\",\"#f7bca1\",\"#f7bca1\",\"#f7ba9f\",\"#f7ba9f\",\"#f7b99e\",\"#f7b99e\",\"#f7b89c\",\"#f7b89c\",\"#f7b79b\",\"#f7b79b\",\"#f7b599\",\"#f7b599\",\"#f7b497\",\"#f7b497\",\"#f7b396\",\"#f7b396\",\"#f7b194\",\"#f7b194\",\"#f7b093\",\"#f7b093\",\"#f7af91\",\"#f7af91\",\"#f7ad90\",\"#f7ad90\",\"#f7ac8e\",\"#f7ac8e\",\"#f7aa8c\",\"#f7aa8c\",\"#f7a98b\",\"#f7a98b\",\"#f7a889\",\"#f7a889\",\"#f7a688\",\"#f7a688\",\"#f6a586\",\"#f6a586\",\"#f6a385\",\"#f6a385\",\"#f6a283\",\"#f6a283\",\"#f5a081\",\"#f5a081\",\"#f59f80\",\"#f59f80\",\"#f59d7e\",\"#f59d7e\",\"#f59c7d\",\"#f59c7d\",\"#f49a7b\",\"#f49a7b\",\"#f4987a\",\"#f4987a\",\"#f39778\",\"#f39778\",\"#f39577\",\"#f39577\",\"#f39475\",\"#f39475\",\"#f29274\",\"#f29274\",\"#f29072\",\"#f29072\",\"#f18f71\",\"#f18f71\",\"#f18d6f\",\"#f18d6f\",\"#f08b6e\",\"#f08b6e\",\"#f08a6c\",\"#f08a6c\",\"#ef886b\",\"#ef886b\",\"#ee8669\",\"#ee8669\",\"#ee8468\",\"#ee8468\",\"#ed8366\",\"#ed8366\",\"#ec8165\",\"#ec8165\",\"#ec7f63\",\"#ec7f63\",\"#eb7d62\",\"#eb7d62\",\"#ea7b60\",\"#ea7b60\",\"#e97a5f\",\"#e97a5f\",\"#e9785d\",\"#e9785d\",\"#e8765c\",\"#e8765c\",\"#e7745b\",\"#e7745b\",\"#e67259\",\"#e67259\",\"#e57058\",\"#e57058\",\"#e46e56\",\"#e46e56\",\"#e36c55\",\"#e36c55\",\"#e36b54\",\"#e36b54\",\"#e26952\",\"#e26952\",\"#e16751\",\"#e16751\",\"#e0654f\",\"#e0654f\",\"#df634e\",\"#df634e\",\"#de614d\",\"#de614d\",\"#dd5f4b\",\"#dd5f4b\",\"#dc5d4a\",\"#dc5d4a\",\"#da5a49\",\"#da5a49\",\"#d95847\",\"#d95847\",\"#d85646\",\"#d85646\",\"#d75445\",\"#d75445\",\"#d65244\",\"#d65244\",\"#d55042\",\"#d55042\",\"#d44e41\",\"#d44e41\",\"#d24b40\",\"#d24b40\",\"#d1493f\",\"#d1493f\",\"#d0473d\",\"#d0473d\",\"#cf453c\",\"#cf453c\",\"#cd423b\",\"#cd423b\",\"#cc403a\",\"#cc403a\",\"#cb3e38\",\"#cb3e38\",\"#ca3b37\",\"#ca3b37\",\"#c83836\",\"#c83836\",\"#c73635\",\"#c73635\",\"#c53334\",\"#c53334\",\"#c43032\",\"#c43032\",\"#c32e31\",\"#c32e31\",\"#c12b30\",\"#c12b30\",\"#c0282f\",\"#c0282f\",\"#be242e\",\"#be242e\",\"#bd1f2d\",\"#bd1f2d\",\"#bb1b2c\",\"#bb1b2c\",\"#ba162b\",\"#ba162b\",\"#b8122a\",\"#b8122a\",\"#b70d28\",\"#b70d28\",\"#b50927\",\"#b50927\",\"#b40426\",\"#b40426\"],\"low\":-1,\"high\":1}}}}],\"above\":[{\"type\":\"object\",\"name\":\"CategoricalAxis\",\"id\":\"p1015\",\"attributes\":{\"ticker\":{\"type\":\"object\",\"name\":\"CategoricalTicker\",\"id\":\"p1016\"},\"formatter\":{\"type\":\"object\",\"name\":\"CategoricalTickFormatter\",\"id\":\"p1017\"},\"major_label_standoff\":0,\"major_label_orientation\":0.7853981633974483,\"major_label_policy\":{\"type\":\"object\",\"name\":\"AllLabels\",\"id\":\"p1018\"},\"axis_line_color\":null,\"major_tick_line_color\":null}}],\"center\":[{\"type\":\"object\",\"name\":\"Grid\",\"id\":\"p1019\",\"attributes\":{\"axis\":{\"id\":\"p1015\"},\"grid_line_color\":null}},{\"type\":\"object\",\"name\":\"Grid\",\"id\":\"p1024\",\"attributes\":{\"dimension\":1,\"axis\":{\"id\":\"p1020\"},\"grid_line_color\":null}}]}}]}}\n",
       "    </script>\n",
       "    <script type=\"text/javascript\">\n",
       "      (function() {\n",
       "        const fn = function() {\n",
       "          Bokeh.safely(function() {\n",
       "            (function(root) {\n",
       "              function embed_document(root) {\n",
       "              const docs_json = document.getElementById('f56ef35c-e07b-497e-a491-48cbda82a44f').textContent;\n",
       "              const render_items = [{\"docid\":\"c2061a51-25ac-460e-88ee-8da0179bf5c7\",\"roots\":{\"p1001\":\"efcdb5a0-1be5-4a30-99e1-f87571bb2b53\"},\"root_ids\":[\"p1001\"]}];\n",
       "              root.Bokeh.embed.embed_items(docs_json, render_items);\n",
       "              }\n",
       "              if (root.Bokeh !== undefined) {\n",
       "                embed_document(root);\n",
       "              } else {\n",
       "                let attempts = 0;\n",
       "                const timer = setInterval(function(root) {\n",
       "                  if (root.Bokeh !== undefined) {\n",
       "                    clearInterval(timer);\n",
       "                    embed_document(root);\n",
       "                  } else {\n",
       "                    attempts++;\n",
       "                    if (attempts > 100) {\n",
       "                      clearInterval(timer);\n",
       "                      console.log(\"Bokeh: ERROR: Unable to run BokehJS code because BokehJS library is missing\");\n",
       "                    }\n",
       "                  }\n",
       "                }, 10, root)\n",
       "              }\n",
       "            })(window);\n",
       "          });\n",
       "        };\n",
       "        if (document.readyState != \"loading\") fn();\n",
       "        else document.addEventListener(\"DOMContentLoaded\", fn);\n",
       "      })();\n",
       "    </script>\n",
       "  </body>\n",
       "</html>"
      ]
     },
     "metadata": {},
     "output_type": "display_data"
    }
   ],
   "source": [
    "displayHTML(html)"
   ]
  }
 ],
 "metadata": {
  "application/vnd.databricks.v1+notebook": {
   "computePreferences": null,
   "dashboards": [],
   "environmentMetadata": {
    "base_environment": "",
    "client": "1"
   },
   "language": "python",
   "notebookMetadata": {
    "mostRecentlyExecutedCommandWithImplicitDF": {
     "commandId": 2462872550289192,
     "dataframes": [
      "_sqldf"
     ]
    },
    "pythonIndentUnit": 4
   },
   "notebookName": "Interactive Co-variance|Pearson-correlation Matrix with Spark and Bokeh",
   "widgets": {}
  }
 },
 "nbformat": 4,
 "nbformat_minor": 0
}
